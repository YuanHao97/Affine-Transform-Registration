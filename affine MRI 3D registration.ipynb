{
 "cells": [
  {
   "cell_type": "code",
   "execution_count": 1,
   "metadata": {
    "collapsed": true
   },
   "outputs": [],
   "source": [
    "%matplotlib inline\n",
    "import torch  as t\n",
    "import numpy as np\n",
    "import matplotlib.pyplot as plt\n",
    "from torch.autograd import Variable as V\n",
    "from ipywidgets import interact, fixed\n",
    "from IPython.display import clear_output\n",
    "import gc\n",
    "\n",
    "def affine_transform(input,mat):\n",
    "    coor=coordinate_one()\n",
    "    xyzprime=t.tensordot(coor,t.t(mat),dims=1)\n",
    "    return trilinear(input,xyzprime)\n",
    "\n",
    "def coordinate(shape):\n",
    "    coor=np.asarray(np.meshgrid(np.arange(X), np.arange(Y), np.arange(Z)))\n",
    "    coor=np.rollaxis(coor,0,2)\n",
    "    coor=np.rollaxis(coor,0,3)\n",
    "    coor=np.rollaxis(coor,0,4)\n",
    "    return V(t.tensor(coor),True)\n",
    "\n",
    "def coordinate_one():\n",
    "    coor=np.asarray(np.meshgrid(np.arange(X), np.arange(Y), np.arange(Z)))\n",
    "    coor=np.rollaxis(coor,0,2)\n",
    "    coor=np.rollaxis(coor,0,3)\n",
    "    coor=np.rollaxis(coor,0,4)\n",
    "    onesMatrix = np.ones((X,Y,Z,1))\n",
    "    coorMatrix = np.concatenate((coor, onesMatrix), axis=3)\n",
    "    return V(t.tensor(coorMatrix),True)\n",
    "    \n",
    "def trilinear(img,xyzprime):\n",
    "    xp=xyzprime[:,:,:,0]\n",
    "    yp=xyzprime[:,:,:,1]\n",
    "    zp=xyzprime[:,:,:,2]\n",
    "    LUX=t.floor(xp).int()\n",
    "    LUY=t.floor(yp).int()\n",
    "    LUZ=t.floor(zp).int()\n",
    "    LUX=t.where(LUX>X-2,t.tensor(X-2),LUX.long())\n",
    "    LUX=t.where(LUX<1,t.tensor(1),LUX)\n",
    "    LUY=t.where(LUY>Y-2,t.tensor(Y-2),LUY.long())\n",
    "    LUY=t.where(LUY<1,t.tensor(1),LUY)\n",
    "    LUZ=t.where(LUZ>Z-2,t.tensor(Z-2),LUZ.long())\n",
    "    LUZ=t.where(LUZ<1,t.tensor(1),LUZ)\n",
    "    xd,yd,zd=yp-LUY.double(),xp-LUX.double(),zp-LUZ.double()\n",
    "    k000,k001,k010,k011=img[LUX,LUY,LUZ],img[LUX,LUY,LUZ+1],img[LUX,LUY+1,LUZ],img[LUX,LUY+1,LUZ+1]\n",
    "    k100,k101,k110,k111=img[LUX+1,LUY,LUZ],img[LUX+1,LUY,LUZ+1],img[LUX+1,LUY+1,LUZ],img[LUX+1,LUY+1,LUZ+1]\n",
    "    i1=k000*(1-zd)+k001*zd\n",
    "    i2=k010*(1-zd)+k011*zd\n",
    "    j1=k100*(1-zd)+k101*zd\n",
    "    j2=k110*(1-zd)+k111*zd\n",
    "    w1=i1*(1-yd)+i2*yd\n",
    "    w2=j1*(1-yd)+j2*yd\n",
    "    res=w1*(1-xd)+w2*xd\n",
    "    del w1,w2,i1,i2,j1,j2,k000,k001,k010,k011,k100,k101,k110,k111,xd,yd,zd,LUX,LUY,LUZ,xp,yp,zp\n",
    "    return res\n",
    "    \n",
    "\n",
    "def imshow(img, mov, tmp):\n",
    "    plt.subplot(1,3,1)\n",
    "    plt.imshow(img)\n",
    "    plt.title(\"moving\")\n",
    "    \n",
    "    plt.subplot(1,3,2)\n",
    "    plt.imshow(mov)\n",
    "    plt.title(\"after transformation\")\n",
    "    \n",
    "    plt.subplot(1,3,3)\n",
    "    plt.imshow(tmp)\n",
    "    plt.title(\"template\")\n",
    "    plt.show()\n",
    "\n",
    "    \n",
    "def display_images(image_z, moving, transformed, template):\n",
    "    plt.subplots(1,3,figsize=(10,8))\n",
    "    \n",
    "    plt.subplot(1,3,1)\n",
    "    plt.imshow(moving[image_z,:,:],cmap=plt.cm.Greys_r);\n",
    "    plt.title('moving image')\n",
    "    plt.axis('off')\n",
    "    \n",
    "    plt.subplot(1,3,2)\n",
    "    plt.imshow(transformed[image_z,:,:],cmap=plt.cm.Greys_r);\n",
    "    plt.title('transformed image')\n",
    "    plt.axis('off')\n",
    "    \n",
    "    plt.subplot(1,3,3)\n",
    "    plt.imshow(template[image_z,:,:],cmap=plt.cm.Greys_r);\n",
    "    plt.title('template image')\n",
    "    plt.axis('off')\n",
    "    \n",
    "    plt.show()\n",
    "    \n",
    "def interact_display(range,mov,transformed,template):\n",
    "    interact(display_images, image_z=(0,mov.shape[0]-1,10),\n",
    "         moving = fixed(mov.detach().numpy()), \n",
    "         transformed=fixed(tmplt.detach().numpy()), \n",
    "         template=fixed(template.detach().numpy()))"
   ]
  },
  {
   "cell_type": "code",
   "execution_count": 2,
   "metadata": {},
   "outputs": [],
   "source": [
    "all=np.load(\"MRI_3D/OAS1_0001_MR1_mpr_n4_anon_111_t88_masked_gfc_rep1.npz\")\n",
    "mov=all[\"moving\"]\n",
    "mov=V(t.tensor(mov).double(),True)\n",
    "X,Y,Z=mov.shape\n",
    "# template=all[\"fixed\"]\n",
    "# template=V(t.tensor(template).double(),True)\n",
    "transformMatrix=V(t.tensor(np.array([[1.1,0,0,0],\n",
    "                                     [0,1.1,0,0],\n",
    "                                     [0,0,1.1,0],\n",
    "                                     [0,0,0,1]])).double(), True)\n",
    "template=affine_transform(mov,transformMatrix)\n"
   ]
  },
  {
   "cell_type": "code",
   "execution_count": 3,
   "metadata": {
    "scrolled": true
   },
   "outputs": [
    {
     "data": {
      "text/plain": [
       "[<matplotlib.lines.Line2D at 0x23b293f4f98>]"
      ]
     },
     "execution_count": 3,
     "metadata": {},
     "output_type": "execute_result"
    },
    {
     "data": {
      "image/png": "[encoded data removed]",
      "text/plain": [
       "<matplotlib.figure.Figure at 0x23b29318dd8>"
      ]
     },
     "metadata": {},
     "output_type": "display_data"
    }
   ],
   "source": [
    "mat=V(t.tensor(np.array([[1,0,0,0],\n",
    "                         [0,1,0,0],\n",
    "                         [0,0,1,0],\n",
    "                         [0,0,0,1]])).double(), True)\n",
    "step=1e-9\n",
    "iter=4\n",
    "losses=[]\n",
    "for i in range(iter):    \n",
    "    tmplt=affine_transform(mov,mat)\n",
    "    err=(template-tmplt)/255\n",
    "    loss=t.sum(err**2)   \n",
    "    loss.backward(retain_graph=True)\n",
    "    losses.append(loss)\n",
    "    with t.no_grad():\n",
    "        mat[:2,:2]-=step*mat.grad[:2,:2]\n",
    "        mat[:2,2]-=step*mat.grad[:2,2]\n",
    "        mat.grad.zero_()\n",
    "    gc.collect()\n",
    "plt.plot(np.arange(iter), losses)"
   ]
  },
  {
   "cell_type": "code",
   "execution_count": 4,
   "metadata": {
    "scrolled": true
   },
   "outputs": [
    {
     "name": "stdout",
     "output_type": "stream",
     "text": [
      "tensor([[-6.7394e+07, -1.1367e+08, -9.5980e+07, -9.2191e+05],\n",
      "        [-7.7848e+07, -8.2859e+07, -8.5879e+07, -8.1785e+05],\n",
      "        [-5.2225e+07, -7.4717e+07, -8.7078e+07, -7.1281e+05],\n",
      "        [ 0.0000e+00,  0.0000e+00,  0.0000e+00,  0.0000e+00]],\n",
      "       dtype=torch.float64)\n"
     ]
    }
   ],
   "source": [
    "mat=V(t.tensor(np.array([[1,0,0,0],\n",
    "                         [0,1,0,0],\n",
    "                         [0,0,1,0],\n",
    "                         [0,0,0,1]])).double(), True)\n",
    "step=1e-5\n",
    "iter=1\n",
    "losses=[]\n",
    "tmplt=affine_transform(mov,mat)\n",
    "err=(template-tmplt)/255\n",
    "loss=t.sum(err**2)   \n",
    "loss.backward(retain_graph=True)\n",
    "with t.no_grad():\n",
    "    mat[:2,:2]-=step*mat.grad[:2,:2]\n",
    "    mat[:2,2]-=step*mat.grad[:2,2]\n",
    "    print(mat.grad)\n",
    "    mat.grad.zero_()"
   ]
  }
 ],
 "metadata": {
  "kernelspec": {
   "display_name": "Python 3",
   "language": "python",
   "name": "python3"
  },
  "language_info": {
   "codemirror_mode": {
    "name": "ipython",
    "version": 3
   },
   "file_extension": ".py",
   "mimetype": "text/x-python",
   "name": "python",
   "nbconvert_exporter": "python",
   "pygments_lexer": "ipython3",
   "version": "3.6.2"
  }
 },
 "nbformat": 4,
 "nbformat_minor": 2
}
