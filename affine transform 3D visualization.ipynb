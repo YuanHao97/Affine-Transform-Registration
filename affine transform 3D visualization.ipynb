{
 "cells": [
  {
   "cell_type": "code",
   "execution_count": 1,
   "metadata": {
    "collapsed": true
   },
   "outputs": [],
   "source": [
    "%matplotlib inline\n",
    "import torch as t\n",
    "import numpy as np\n",
    "import matplotlib.pyplot as plt\n",
    "from ipywidgets import interact, fixed\n",
    "from IPython.display import clear_output\n",
    "\n",
    "def affine_transform(input,mat):\n",
    "    coor=coordinate_one()\n",
    "    xyzprime=t.tensordot(coor,t.t(mat),dims=1)\n",
    "    return trilinear(input,xyzprime)\n",
    "\n",
    "def coordinate_one():\n",
    "    coor = np.asarray(np.meshgrid(np.arange(X), np.arange(Y), np.arange(Z)))\n",
    "    coor = np.rollaxis(coor, 0, 2)\n",
    "    coor = np.rollaxis(coor, 0, 3)\n",
    "    coor = np.rollaxis(coor, 0, 4)\n",
    "    onesMatrix = np.ones((X, Y, Z, 1))\n",
    "    coorMatrix = np.concatenate((coor, onesMatrix), axis=3)\n",
    "    return t.tensor(coorMatrix, device='cuda')\n",
    "\n",
    "def trilinear(img, xyzprime):\n",
    "    xp = xyzprime[:, :, :, 0]\n",
    "    yp = xyzprime[:, :, :, 1]\n",
    "    zp = xyzprime[:, :, :, 2]\n",
    "    LUX = t.floor(xp).int()\n",
    "    LUY = t.floor(yp).int()\n",
    "    LUZ = t.floor(zp).int()\n",
    "    LUX = t.where(LUX > X - 2, t.tensor(X - 2, device='cuda'), LUX.long())\n",
    "    LUX = t.where(LUX < 1, t.tensor(1, device='cuda'), LUX)\n",
    "    LUY = t.where(LUY > Y - 2, t.tensor(Y - 2, device='cuda'), LUY.long())\n",
    "    LUY = t.where(LUY < 1, t.tensor(1, device='cuda'), LUY)\n",
    "    LUZ = t.where(LUZ > Z - 2, t.tensor(Z - 2, device='cuda'), LUZ.long())\n",
    "    LUZ = t.where(LUZ < 1, t.tensor(1, device='cuda'), LUZ)\n",
    "    xd, yd, zd = yp - LUY.double(), xp - LUX.double(), zp - LUZ.double()\n",
    "    k000, k001, k010, k011 = img[LUX, LUY, LUZ], img[LUX, LUY, LUZ + 1], img[LUX, LUY + 1, LUZ], img[\n",
    "        LUX, LUY + 1, LUZ + 1]\n",
    "    k100, k101, k110, k111 = img[LUX + 1, LUY, LUZ], img[LUX + 1, LUY, LUZ + 1], img[LUX + 1, LUY + 1, LUZ], img[\n",
    "        LUX + 1, LUY + 1, LUZ + 1]\n",
    "    i1 = k000 * (1 - zd) + k001 * zd\n",
    "    i2 = k010 * (1 - zd) + k011 * zd\n",
    "    j1 = k100 * (1 - zd) + k101 * zd\n",
    "    j2 = k110 * (1 - zd) + k111 * zd\n",
    "    w1 = i1 * (1 - yd) + i2 * yd\n",
    "    w2 = j1 * (1 - yd) + j2 * yd\n",
    "    res = w1 * (1 - xd) + w2 * xd\n",
    "    return res\n",
    "\n",
    "def affine_transform_3D(input,mat):\n",
    "    coor=coordinate_one()\n",
    "    xyzprime=t.tensordot(coor,t.t(mat),dims=1)\n",
    "    return trilinear(input,xyzprime)\n",
    "\n",
    "\n",
    "def randxyz(shape, rate):\n",
    "    np.random.random(shape)\n",
    "    rst = t.empty(shape).uniform_(0, 1)\n",
    "    return t.where(rst > t.tensor(rate), t.tensor(0), t.tensor(1))\n",
    "\n",
    "\n",
    "def np_randxyz(shape, rate):\n",
    "    rst = np.random.random(shape)\n",
    "    rst = np.where(rst > rate, 0, 1)\n",
    "    return t.tensor(rst, device='cuda')\n",
    "\n",
    "\n",
    "def display_images(image_z, moving, transformed, template):\n",
    "    plt.subplots(1, 3, figsize=(10, 8))\n",
    "\n",
    "    plt.subplot(1, 3, 1)\n",
    "    plt.imshow(moving[image_z, :, :], cmap=plt.cm.Greys_r);\n",
    "    plt.title('moving image')\n",
    "    plt.axis('off')\n",
    "\n",
    "    plt.subplot(1, 3, 2)\n",
    "    plt.imshow(transformed[image_z, :, :], cmap=plt.cm.Greys_r);\n",
    "    plt.title('transformed image')\n",
    "    plt.axis('off')\n",
    "\n",
    "    plt.subplot(1, 3, 3)\n",
    "    plt.imshow(template[image_z, :, :], cmap=plt.cm.Greys_r);\n",
    "    plt.title('template image')\n",
    "    plt.axis('off')\n",
    "\n",
    "    plt.show()\n",
    "    \n",
    "def scale(ori, f):\n",
    "    mov=np.zeros((int(ori.shape[0]/f),int(ori.shape[1]/f),int(ori.shape[2]/f)))\n",
    "    for i in range(len(ori)):\n",
    "        if i%f==0:\n",
    "            for j in range(len(ori[0])):\n",
    "                if j%f==0:\n",
    "                    for k in range(len(ori[0][0])):\n",
    "                        if k%f==0:\n",
    "                            mov[int(i/2)][int(j/2)][int(k/2)]=ori[i][j][k]\n",
    "    return mov"
   ]
  },
  {
   "cell_type": "code",
   "execution_count": 3,
   "metadata": {},
   "outputs": [
    {
     "data": {
      "text/plain": [
       "2458"
      ]
     },
     "execution_count": 3,
     "metadata": {},
     "output_type": "execute_result"
    }
   ],
   "source": [
    "import gc\n",
    "gc.collect()"
   ]
  },
  {
   "cell_type": "code",
   "execution_count": 2,
   "metadata": {},
   "outputs": [],
   "source": [
    "all=np.load(\"MRI_3D/OAS1_0001_MR1_mpr_n4_anon_111_t88_masked_gfc_rep1.npz\")\n",
    "mov=scale(all[\"fixed\"],2)\n",
    "# mov=all[\"fixed\"]\n",
    "mov=t.tensor(mov,device='cuda')\n",
    "X,Y,Z=mov.shape\n",
    "matrix=np.array([[1.1,0,0,0],\n",
    "                 [0,1.1,0,0],\n",
    "                 [0,0,1.1,0],\n",
    "                 [0,0,0,1]]).astype('double')\n",
    "transformMatrix=t.tensor(matrix,device='cuda')\n",
    "template=affine_transform(mov,transformMatrix)"
   ]
  },
  {
   "cell_type": "code",
   "execution_count": 7,
   "metadata": {},
   "outputs": [
    {
     "data": {
      "image/png": "[encoded data removed]",
      "text/plain": [
       "<matplotlib.figure.Figure at 0x1b7271bdbe0>"
      ]
     },
     "metadata": {},
     "output_type": "display_data"
    }
   ],
   "source": [
    "display_images(40,mov.cpu().detach().numpy(),mov.cpu().detach().numpy(),template.cpu().detach().numpy())"
   ]
  },
  {
   "cell_type": "code",
   "execution_count": 14,
   "metadata": {},
   "outputs": [
    {
     "name": "stderr",
     "output_type": "stream",
     "text": [
      "D:\\Anaconda3\\lib\\site-packages\\ipyvolume\\serialize.py:81: RuntimeWarning: invalid value encountered in true_divide\n",
      "  gradient = gradient / np.sqrt(gradient[0]**2 + gradient[1]**2 + gradient[2]**2)\n",
      "IOPub data rate exceeded.\n",
      "The notebook server will temporarily stop sending output\n",
      "to the client in order to avoid crashing it.\n",
      "To change this limit, set the config variable\n",
      "`--NotebookApp.iopub_data_rate_limit`.\n"
     ]
    },
    {
     "data": {
      "application/vnd.jupyter.widget-view+json": {
       "model_id": "3390e95529224dd09053c1090af96390",
       "version_major": 2,
       "version_minor": 0
      },
      "text/plain": [
       "VBox(children=(VBox(children=(HBox(children=(Label(value='levels:'), FloatSlider(value=0.1, max=1.0, step=0.00…"
      ]
     },
     "metadata": {},
     "output_type": "display_data"
    }
   ],
   "source": [
    "import scipy.ndimage\n",
    "import ipyvolume as ipv\n",
    "ipv.quickvolshow(template.cpu().detach().numpy())\n",
    "ipv.show()"
   ]
  },
  {
   "cell_type": "code",
   "execution_count": 1,
   "metadata": {},
   "outputs": [
    {
     "name": "stderr",
     "output_type": "stream",
     "text": [
      "IOPub data rate exceeded.\n",
      "The notebook server will temporarily stop sending output\n",
      "to the client in order to avoid crashing it.\n",
      "To change this limit, set the config variable\n",
      "`--NotebookApp.iopub_data_rate_limit`.\n",
      "D:\\Anaconda3\\lib\\site-packages\\ipyvolume\\serialize.py:81: RuntimeWarning: invalid value encountered in true_divide\n",
      "  gradient = gradient / np.sqrt(gradient[0]**2 + gradient[1]**2 + gradient[2]**2)\n"
     ]
    },
    {
     "data": {
      "application/vnd.jupyter.widget-view+json": {
       "model_id": "fd343da7dcb14ea780cfdb4c69036e63",
       "version_major": 2,
       "version_minor": 0
      },
      "text/plain": [
       "VBox(children=(VBox(children=(HBox(children=(Label(value='levels:'), FloatSlider(value=0.25, max=1.0, step=0.0…"
      ]
     },
     "metadata": {},
     "output_type": "display_data"
    }
   ],
   "source": [
    "import numpy as np\n",
    "import ipyvolume as ipv\n",
    "V = np.zeros((128,128,128)) # our 3d array\n",
    "# outer box\n",
    "V[30:-30,30:-30,30:-30] = 0.75\n",
    "V[35:-35,35:-35,35:-35] = 0.0\n",
    "# inner box\n",
    "V[50:-50,50:-50,50:-50] = 0.25\n",
    "V[55:-55,55:-55,55:-55] = 0.0\n",
    "ipv.quickvolshow(V, level=[0.25, 0.75], opacity=0.03, level_width=0.1, data_min=0, data_max=1)"
   ]
  },
  {
   "cell_type": "code",
   "execution_count": null,
   "metadata": {
    "collapsed": true
   },
   "outputs": [],
   "source": []
  }
 ],
 "metadata": {
  "kernelspec": {
   "display_name": "Python 3",
   "language": "python",
   "name": "python3"
  },
  "language_info": {
   "codemirror_mode": {
    "name": "ipython",
    "version": 3
   },
   "file_extension": ".py",
   "mimetype": "text/x-python",
   "name": "python",
   "nbconvert_exporter": "python",
   "pygments_lexer": "ipython3",
   "version": "3.6.2"
  }
 },
 "nbformat": 4,
 "nbformat_minor": 2
}
